{
 "cells": [
  {
   "cell_type": "markdown",
   "id": "ultimate-rental",
   "metadata": {},
   "source": [
    "<br><font color = darkblue size=6><strong>Delta Hedge</strong></font> "
   ]
  },
  {
   "cell_type": "markdown",
   "id": "regulation-trial",
   "metadata": {},
   "source": [
    "This is a Python translation from Richard's Excel on Delta Hedge"
   ]
  },
  {
   "cell_type": "markdown",
   "id": "unavailable-saver",
   "metadata": {},
   "source": [
    "## Import libraries"
   ]
  },
  {
   "cell_type": "code",
   "execution_count": 1,
   "id": "classified-specialist",
   "metadata": {},
   "outputs": [
    {
     "data": {
      "text/html": [
       "        <script type=\"text/javascript\">\n",
       "        window.PlotlyConfig = {MathJaxConfig: 'local'};\n",
       "        if (window.MathJax) {MathJax.Hub.Config({SVG: {font: \"STIX-Web\"}});}\n",
       "        if (typeof require !== 'undefined') {\n",
       "        require.undef(\"plotly\");\n",
       "        requirejs.config({\n",
       "            paths: {\n",
       "                'plotly': ['https://cdn.plot.ly/plotly-latest.min']\n",
       "            }\n",
       "        });\n",
       "        require(['plotly'], function(Plotly) {\n",
       "            window._Plotly = Plotly;\n",
       "        });\n",
       "        }\n",
       "        </script>\n",
       "        "
      ]
     },
     "metadata": {},
     "output_type": "display_data"
    }
   ],
   "source": [
    "# import libraries\n",
    "import numpy as np\n",
    "from scipy.stats import norm\n",
    "import math\n",
    "import pandas as pd\n",
    "import cufflinks as cf\n",
    "import warnings\n",
    "warnings.filterwarnings(\"ignore\")\n"
   ]
  },
  {
   "cell_type": "markdown",
   "id": "referenced-hypothetical",
   "metadata": {},
   "source": [
    "## Calculate Asset Price (Excel cells B12-B112)"
   ]
  },
  {
   "cell_type": "code",
   "execution_count": 2,
   "id": "tough-journalist",
   "metadata": {},
   "outputs": [],
   "source": [
    "# define a function to calculate Asset Price\n",
    "def asset_price(S0, Strike, IntRate, Vol, Maturity, timesteps):\n",
    "    \n",
    "    \"\"\"S0: cell B1; Strike: cell B2; IntRate: cell B3; Vol: Cell B4; Maturity: Cell B5\"\"\"\n",
    "    \n",
    "    # Set the random seed for reproducibility\n",
    "    # Same seed leads to the same set of random values\n",
    "    np.random.seed(1) \n",
    "   \n",
    "    # Define dt\n",
    "    dt = Maturity/timesteps        # length of time interval  \n",
    "    \n",
    "    # Simulating asset prices with 't' timesteps\n",
    "    S = np.zeros(timesteps+1)\n",
    "    S[0] = S0\n",
    "\n",
    "    for i in range(1, timesteps+1):\n",
    "        z = np.random.standard_normal()     # psuedo random numbers\n",
    "        S[i] = S[i-1] * np.exp((IntRate - 0.5 * Vol ** 2) * dt + Vol * np.sqrt(dt) * z) # vectorized operation per timesteps\n",
    "        \n",
    "    return S"
   ]
  },
  {
   "cell_type": "code",
   "execution_count": 3,
   "id": "charitable-magnitude",
   "metadata": {},
   "outputs": [],
   "source": [
    "# use user inputs in cells B1-B6 in Excel to calcuate cells B12-B112\n",
    "# Note the outputs can be different from those in Excel due to randomization\n",
    "asset = asset_price(100, 100, 0.05, 0.20, 1, 100)"
   ]
  },
  {
   "cell_type": "markdown",
   "id": "distinguished-following",
   "metadata": {},
   "source": [
    "## Calculate Delta_BS (Excel cells C12-C112)"
   ]
  },
  {
   "cell_type": "code",
   "execution_count": 4,
   "id": "physical-ordinary",
   "metadata": {},
   "outputs": [],
   "source": [
    "# define function d1\n",
    "\n",
    "def d1(asset, Vol, DivYld, IntRate, Strike, expiry):\n",
    "    d1 = (np.log(asset / Strike) + (IntRate - DivYld + 0.5 * Vol * Vol) * expiry) / Vol / np.sqrt(expiry)\n",
    "    return d1\n",
    "\n",
    "# define function N1p\n",
    "def N1p(asset, Vol, DivYld, IntRate, Strike, expiry):\n",
    "    N1p = norm.cdf(d1(asset, Vol, DivYld, IntRate, Strike, expiry))\n",
    "    return N1p\n",
    "\n",
    "# define a function to calculate Delta_BS\n",
    "\n",
    "def CallDelta(asset, Vol, DivYld, IntRate, Strike, expiry):\n",
    "    CallDelta = np.exp(-DivYld * expiry) * N1p(asset, Vol, DivYld, IntRate, Strike, expiry)\n",
    "    if asset[-1]>asset[0]:\n",
    "        CallDelta[-1]=1\n",
    "    else:\n",
    "        CallDelta[-1]=0\n",
    "    return CallDelta"
   ]
  },
  {
   "cell_type": "code",
   "execution_count": 5,
   "id": "political-people",
   "metadata": {},
   "outputs": [],
   "source": [
    "# calculate cells B12-B112\n",
    "# Note the outputs can be different from those in Excel due to randomization\n",
    "\n",
    "Maturity = 1\n",
    "Week = np.linspace(0,1,101) #Cells A12-A112\n",
    "Delta_BS = CallDelta(asset, 0.20, 0, 0.05, 100, Maturity-Week )\n"
   ]
  },
  {
   "cell_type": "markdown",
   "id": "continuing-keyboard",
   "metadata": {},
   "source": [
    "## Calculate Bought/Sold (Excel cells D12-D112)"
   ]
  },
  {
   "cell_type": "code",
   "execution_count": 6,
   "id": "sensitive-patrick",
   "metadata": {},
   "outputs": [],
   "source": [
    "shares = 1 # cell B6\n",
    "\n",
    "# shift Delta_BS by 1 and make the first element 0\n",
    "Delta_BS_shift = np.roll(Delta_BS,1)\n",
    "Delta_BS_shift[0] = 0\n",
    "\n",
    "dDelta = (Delta_BS - Delta_BS_shift)*shares"
   ]
  },
  {
   "cell_type": "markdown",
   "id": "outer-regard",
   "metadata": {},
   "source": [
    "## Calculate MtM (Excel cells E12-E112)"
   ]
  },
  {
   "cell_type": "code",
   "execution_count": 7,
   "id": "responsible-russian",
   "metadata": {},
   "outputs": [],
   "source": [
    "MtM = dDelta*asset"
   ]
  },
  {
   "cell_type": "markdown",
   "id": "metropolitan-ranch",
   "metadata": {},
   "source": [
    "## Calculate Cum P&L (Excel cells F12-F112) and Interest (Excel Cells G12-G112)"
   ]
  },
  {
   "cell_type": "code",
   "execution_count": 8,
   "id": "sought-proxy",
   "metadata": {},
   "outputs": [
    {
     "data": {
      "text/plain": [
       "array([0.03184949, 0.03492463, 0.03383227, 0.03286673, 0.03084664,\n",
       "       0.03253917, 0.02815711, 0.03164485, 0.03015942, 0.03079776,\n",
       "       0.03030289, 0.03327535, 0.02921575, 0.02855131, 0.02775374,\n",
       "       0.03011323, 0.02784327, 0.02746699, 0.02562955, 0.02568683,\n",
       "       0.02689501, 0.02456824, 0.02699624, 0.0289555 , 0.03005718,\n",
       "       0.03206302, 0.03056433, 0.03028885, 0.02818596, 0.02756013,\n",
       "       0.02876205, 0.02716006, 0.02621955, 0.02461364, 0.02266947,\n",
       "       0.02113768, 0.02103826, 0.01862261, 0.01902023, 0.02267043,\n",
       "       0.02437938, 0.02386139, 0.02170362, 0.01992168, 0.02392333,\n",
       "       0.02398785, 0.02234623, 0.02274406, 0.02829204, 0.02859258,\n",
       "       0.03027682, 0.03110657, 0.03012387, 0.02691447, 0.02588395,\n",
       "       0.02523498, 0.0268751 , 0.02933628, 0.0321432 , 0.03302347,\n",
       "       0.03572871, 0.03352423, 0.03740273, 0.03898884, 0.038231  ,\n",
       "       0.03977027, 0.03967547, 0.04298383, 0.04676914, 0.05066943,\n",
       "       0.04878541, 0.04609284, 0.04507769, 0.0456928 , 0.04794261,\n",
       "       0.04881335, 0.04425798, 0.04357671, 0.0462391 , 0.04711732,\n",
       "       0.04919175, 0.04901234, 0.04887527, 0.0496211 , 0.050776  ,\n",
       "       0.05145255, 0.05196928, 0.05120546, 0.05222814, 0.05276321,\n",
       "       0.0541028 , 0.05468213, 0.05479574, 0.05483717, 0.05485884,\n",
       "       0.0549456 , 0.05498471, 0.05501424, 0.05504218, 0.05506971,\n",
       "       0.05509726])"
      ]
     },
     "execution_count": 8,
     "metadata": {},
     "output_type": "execute_result"
    }
   ],
   "source": [
    "# initiate Cum P&L\n",
    "cum_pl = np.zeros(len(Week))\n",
    "cum_pl[0] = MtM[0]\n",
    "\n",
    "# initiate interest\n",
    "IntRate = 0.05\n",
    "interest = np.zeros(len(Week))\n",
    "interest[0] = cum_pl[0]*(np.exp(IntRate*0.01)-1)\n",
    "\n",
    "# calcualte Cum P&L and interest\n",
    "for i in range (1, len(Week)):\n",
    "    cum_pl[i] = MtM[i]+cum_pl[i-1]+interest[i-1]\n",
    "    interest[i] = cum_pl[i]*(np.exp(IntRate*0.01)-1)\n",
    "    \n",
    "cum_pl # output cells F12-F112\n",
    "interest # output cells G12-G112"
   ]
  },
  {
   "cell_type": "markdown",
   "id": "underlying-biography",
   "metadata": {},
   "source": [
    "## Calculate Gamma_BS (Excel cells I12-I112)"
   ]
  },
  {
   "cell_type": "code",
   "execution_count": 9,
   "id": "unlike-arabic",
   "metadata": {},
   "outputs": [],
   "source": [
    "# define Nxd1\n",
    "def Nxd1(asset, Vol, DivYld, IntRate, Strike, expiry):\n",
    "    Nxd1 = 1 / np.sqrt(2 * math.pi) * np.exp(-0.5 * d1(asset, Vol, DivYld, IntRate, Strike, expiry)\n",
    "                                             * d1(asset, Vol, DivYld, IntRate, Strike, expiry))\n",
    "    return Nxd1\n",
    "    \n",
    "\n",
    "\n",
    "# define CallGamma function\n",
    "def CallGamma(asset, Vol, DivYld, IntRate, Strike, expiry):\n",
    "    CallGamma = (np.exp(-DivYld * expiry) * Nxd1(asset, Vol, DivYld, IntRate, Strike, expiry))/(Vol*asset*np.sqrt(expiry))\n",
    "    CallGamma[-1] = 0\n",
    "    return CallGamma\n"
   ]
  },
  {
   "cell_type": "code",
   "execution_count": 10,
   "id": "virgin-heating",
   "metadata": {},
   "outputs": [],
   "source": [
    "# initiate expiry\n",
    "expiry = Maturity - Week\n",
    "\n",
    "# calculate CallGamma (cells I12-I112)\n",
    "Gamma_BS = CallGamma(asset, 0.2, 0 ,0.05, 100, expiry)"
   ]
  },
  {
   "cell_type": "markdown",
   "id": "checked-basin",
   "metadata": {},
   "source": [
    "## Plot Cum P&L and Gamma_BS"
   ]
  },
  {
   "cell_type": "code",
   "execution_count": 11,
   "id": "voluntary-absence",
   "metadata": {},
   "outputs": [
    {
     "data": {
      "application/vnd.plotly.v1+json": {
       "config": {
        "linkText": "Export to plot.ly",
        "plotlyServerURL": "https://plot.ly",
        "showLink": true
       },
       "data": [
        {
         "line": {
          "color": "rgba(255, 153, 51, 1.0)",
          "dash": "solid",
          "shape": "linear",
          "width": 1.3
         },
         "mode": "lines",
         "name": "Cum P&L",
         "text": "",
         "type": "scatter",
         "x": [
          0,
          0.01,
          0.02,
          0.03,
          0.04,
          0.05,
          0.06,
          0.07,
          0.08,
          0.09,
          0.1,
          0.11,
          0.12,
          0.13,
          0.14,
          0.15,
          0.16,
          0.17,
          0.18,
          0.19,
          0.2,
          0.21,
          0.22,
          0.23,
          0.24,
          0.25,
          0.26,
          0.27,
          0.28,
          0.29,
          0.3,
          0.31,
          0.32,
          0.33,
          0.34,
          0.35000000000000003,
          0.36,
          0.37,
          0.38,
          0.39,
          0.4,
          0.41000000000000003,
          0.42,
          0.43,
          0.44,
          0.45,
          0.46,
          0.47000000000000003,
          0.48,
          0.49,
          0.5,
          0.51,
          0.52,
          0.53,
          0.54,
          0.55,
          0.56,
          0.5700000000000001,
          0.58,
          0.59,
          0.6,
          0.61,
          0.62,
          0.63,
          0.64,
          0.65,
          0.66,
          0.67,
          0.68,
          0.6900000000000001,
          0.7000000000000001,
          0.71,
          0.72,
          0.73,
          0.74,
          0.75,
          0.76,
          0.77,
          0.78,
          0.79,
          0.8,
          0.81,
          0.8200000000000001,
          0.8300000000000001,
          0.84,
          0.85,
          0.86,
          0.87,
          0.88,
          0.89,
          0.9,
          0.91,
          0.92,
          0.93,
          0.9400000000000001,
          0.9500000000000001,
          0.96,
          0.97,
          0.98,
          0.99,
          1
         ],
         "y": [
          63.68306511756191,
          69.83179517513442,
          67.64761857436118,
          65.71702212976712,
          61.677865130992465,
          65.06207055907629,
          56.30014244688067,
          63.273880221087744,
          60.30375576755148,
          61.58012826953719,
          60.590636887555206,
          66.53406195927978,
          58.41690256604135,
          57.08834614336629,
          55.493606840934824,
          60.21140526353431,
          55.67261199041024,
          54.92025151804433,
          51.2462876794724,
          51.36081162261857,
          53.77658079681727,
          49.12420198949827,
          53.97899103546011,
          57.89652252852968,
          60.099324629852056,
          64.11001245992213,
          61.11337648447214,
          60.56256514990664,
          56.35783654128505,
          55.106485395395374,
          57.50971479607138,
          54.30654432681447,
          52.42598310387886,
          49.21497019875668,
          45.32760469707486,
          42.26479325981803,
          42.06600705376832,
          37.23590586170272,
          38.030940790324344,
          45.32952609339223,
          48.746563021549385,
          47.710855693406856,
          43.396380780893416,
          39.83340166694416,
          47.83469640618603,
          47.96370153289171,
          44.68129167832041,
          45.4767559091396,
          56.5699264769937,
          57.17085607413925,
          60.538509545261306,
          62.19758021288908,
          60.23267600172691,
          53.815486927721075,
          51.75495847384784,
          50.45734769163234,
          53.73676602024035,
          58.65789415022351,
          64.27032862957941,
          66.03043797966235,
          71.43956080676435,
          67.03170218066765,
          74.78675696019222,
          77.95817901063478,
          76.44287887362876,
          79.52064986903946,
          79.33110616640985,
          85.94616279934866,
          93.51490342203697,
          101.3135248503886,
          97.54642514193894,
          92.16263371385723,
          90.13283315449483,
          91.36275147545182,
          95.8612577638697,
          97.60230153365046,
          88.49382453767106,
          87.13163511710417,
          92.45508290729691,
          94.2110738237824,
          98.35890815591293,
          98.0001690305048,
          97.72609592726918,
          99.21738926016346,
          101.52660830529474,
          102.87937639505164,
          103.9125765505457,
          102.38530959917351,
          104.43017030923352,
          105.50003760135876,
          108.17855613313542,
          109.3369183320913,
          109.56409030888393,
          109.64693249356853,
          109.69025121050454,
          109.86372389128942,
          109.94193514014167,
          110.00096716308181,
          110.05684775089173,
          110.11189596165899,
          110.16696567626857
         ]
        },
        {
         "line": {
          "color": "rgba(55, 128, 191, 1.0)",
          "dash": "solid",
          "shape": "linear",
          "width": 1.3
         },
         "mode": "lines",
         "name": "Gamma_BS",
         "text": "",
         "type": "scatter",
         "x": [
          0,
          0.01,
          0.02,
          0.03,
          0.04,
          0.05,
          0.06,
          0.07,
          0.08,
          0.09,
          0.1,
          0.11,
          0.12,
          0.13,
          0.14,
          0.15,
          0.16,
          0.17,
          0.18,
          0.19,
          0.2,
          0.21,
          0.22,
          0.23,
          0.24,
          0.25,
          0.26,
          0.27,
          0.28,
          0.29,
          0.3,
          0.31,
          0.32,
          0.33,
          0.34,
          0.35000000000000003,
          0.36,
          0.37,
          0.38,
          0.39,
          0.4,
          0.41000000000000003,
          0.42,
          0.43,
          0.44,
          0.45,
          0.46,
          0.47000000000000003,
          0.48,
          0.49,
          0.5,
          0.51,
          0.52,
          0.53,
          0.54,
          0.55,
          0.56,
          0.5700000000000001,
          0.58,
          0.59,
          0.6,
          0.61,
          0.62,
          0.63,
          0.64,
          0.65,
          0.66,
          0.67,
          0.68,
          0.6900000000000001,
          0.7000000000000001,
          0.71,
          0.72,
          0.73,
          0.74,
          0.75,
          0.76,
          0.77,
          0.78,
          0.79,
          0.8,
          0.81,
          0.8200000000000001,
          0.8300000000000001,
          0.84,
          0.85,
          0.86,
          0.87,
          0.88,
          0.89,
          0.9,
          0.91,
          0.92,
          0.93,
          0.9400000000000001,
          0.9500000000000001,
          0.96,
          0.97,
          0.98,
          0.99,
          1
         ],
         "xaxis": "x",
         "y": [
          0.018762017345846895,
          0.0170088730002123,
          0.017819129255404766,
          0.018510513622466588,
          0.019733363134363094,
          0.018926062388426135,
          0.021177624074927615,
          0.019724485865930584,
          0.020583170248741157,
          0.02038696949307831,
          0.020740095692361918,
          0.019266349668137568,
          0.021510720239064158,
          0.021893884922556266,
          0.022301015292112338,
          0.021494055069038946,
          0.022534897146273804,
          0.022784721081062075,
          0.023397165917589814,
          0.023515097282733946,
          0.023355485464927286,
          0.023974932280006887,
          0.02361674063975371,
          0.02310414149204814,
          0.02278603666919412,
          0.02192977124509897,
          0.02286117712588284,
          0.023144810302318793,
          0.024161952297003072,
          0.02452606386162353,
          0.02428147248094076,
          0.02497835696335481,
          0.025382047915049652,
          0.025813057423596707,
          0.026040490641225402,
          0.026034785835502415,
          0.026188786180710043,
          0.025594645823112307,
          0.02593149004527168,
          0.026948067492885208,
          0.027157811571687628,
          0.027383501490881867,
          0.02742667829871651,
          0.02717024104132161,
          0.028033197492445816,
          0.02826129609824324,
          0.028387080010806736,
          0.0286721809319302,
          0.028310715784470593,
          0.028475975966229174,
          0.0280835738188134,
          0.027962824329316585,
          0.02872228010146272,
          0.03008698764289112,
          0.030563489721644767,
          0.030939069189521183,
          0.03104911200757939,
          0.03067245549301646,
          0.029658393839941535,
          0.029468099723963796,
          0.027808240937100402,
          0.02990887642040995,
          0.027078010413142086,
          0.025817311546616446,
          0.027027606346927913,
          0.025716163570538395,
          0.02623940184501862,
          0.02232936653107533,
          0.016669057290292184,
          0.009400669270297911,
          0.013694373507603934,
          0.019255927051645513,
          0.021477803190405143,
          0.020837674979866536,
          0.016919836094874408,
          0.015447083767304002,
          0.02519550631238389,
          0.02701762744843712,
          0.022642056093047716,
          0.021368858148667392,
          0.01704630145274245,
          0.01806064041021734,
          0.019027530538138368,
          0.017621733912218676,
          0.014785380873461016,
          0.013143813842447328,
          0.011875884242255323,
          0.015343850287994214,
          0.01211038074183385,
          0.010464439198130372,
          0.0044010873613035476,
          0.0012472361167402402,
          0.0006879207914913762,
          0.0006237681473877546,
          0.0007356962494085628,
          0.00017367662089010948,
          3.780395100851262e-05,
          8.496385117079021e-06,
          8.797444115095255e-08,
          9.143913557505191e-12,
          0
         ],
         "yaxis": "y2"
        }
       ],
       "layout": {
        "legend": {
         "bgcolor": "#F5F6F9",
         "font": {
          "color": "#4D5663"
         }
        },
        "paper_bgcolor": "#F5F6F9",
        "plot_bgcolor": "#F5F6F9",
        "template": {
         "data": {
          "bar": [
           {
            "error_x": {
             "color": "#2a3f5f"
            },
            "error_y": {
             "color": "#2a3f5f"
            },
            "marker": {
             "line": {
              "color": "#E5ECF6",
              "width": 0.5
             }
            },
            "type": "bar"
           }
          ],
          "barpolar": [
           {
            "marker": {
             "line": {
              "color": "#E5ECF6",
              "width": 0.5
             }
            },
            "type": "barpolar"
           }
          ],
          "carpet": [
           {
            "aaxis": {
             "endlinecolor": "#2a3f5f",
             "gridcolor": "white",
             "linecolor": "white",
             "minorgridcolor": "white",
             "startlinecolor": "#2a3f5f"
            },
            "baxis": {
             "endlinecolor": "#2a3f5f",
             "gridcolor": "white",
             "linecolor": "white",
             "minorgridcolor": "white",
             "startlinecolor": "#2a3f5f"
            },
            "type": "carpet"
           }
          ],
          "choropleth": [
           {
            "colorbar": {
             "outlinewidth": 0,
             "ticks": ""
            },
            "type": "choropleth"
           }
          ],
          "contour": [
           {
            "colorbar": {
             "outlinewidth": 0,
             "ticks": ""
            },
            "colorscale": [
             [
              0,
              "#0d0887"
             ],
             [
              0.1111111111111111,
              "#46039f"
             ],
             [
              0.2222222222222222,
              "#7201a8"
             ],
             [
              0.3333333333333333,
              "#9c179e"
             ],
             [
              0.4444444444444444,
              "#bd3786"
             ],
             [
              0.5555555555555556,
              "#d8576b"
             ],
             [
              0.6666666666666666,
              "#ed7953"
             ],
             [
              0.7777777777777778,
              "#fb9f3a"
             ],
             [
              0.8888888888888888,
              "#fdca26"
             ],
             [
              1,
              "#f0f921"
             ]
            ],
            "type": "contour"
           }
          ],
          "contourcarpet": [
           {
            "colorbar": {
             "outlinewidth": 0,
             "ticks": ""
            },
            "type": "contourcarpet"
           }
          ],
          "heatmap": [
           {
            "colorbar": {
             "outlinewidth": 0,
             "ticks": ""
            },
            "colorscale": [
             [
              0,
              "#0d0887"
             ],
             [
              0.1111111111111111,
              "#46039f"
             ],
             [
              0.2222222222222222,
              "#7201a8"
             ],
             [
              0.3333333333333333,
              "#9c179e"
             ],
             [
              0.4444444444444444,
              "#bd3786"
             ],
             [
              0.5555555555555556,
              "#d8576b"
             ],
             [
              0.6666666666666666,
              "#ed7953"
             ],
             [
              0.7777777777777778,
              "#fb9f3a"
             ],
             [
              0.8888888888888888,
              "#fdca26"
             ],
             [
              1,
              "#f0f921"
             ]
            ],
            "type": "heatmap"
           }
          ],
          "heatmapgl": [
           {
            "colorbar": {
             "outlinewidth": 0,
             "ticks": ""
            },
            "colorscale": [
             [
              0,
              "#0d0887"
             ],
             [
              0.1111111111111111,
              "#46039f"
             ],
             [
              0.2222222222222222,
              "#7201a8"
             ],
             [
              0.3333333333333333,
              "#9c179e"
             ],
             [
              0.4444444444444444,
              "#bd3786"
             ],
             [
              0.5555555555555556,
              "#d8576b"
             ],
             [
              0.6666666666666666,
              "#ed7953"
             ],
             [
              0.7777777777777778,
              "#fb9f3a"
             ],
             [
              0.8888888888888888,
              "#fdca26"
             ],
             [
              1,
              "#f0f921"
             ]
            ],
            "type": "heatmapgl"
           }
          ],
          "histogram": [
           {
            "marker": {
             "colorbar": {
              "outlinewidth": 0,
              "ticks": ""
             }
            },
            "type": "histogram"
           }
          ],
          "histogram2d": [
           {
            "colorbar": {
             "outlinewidth": 0,
             "ticks": ""
            },
            "colorscale": [
             [
              0,
              "#0d0887"
             ],
             [
              0.1111111111111111,
              "#46039f"
             ],
             [
              0.2222222222222222,
              "#7201a8"
             ],
             [
              0.3333333333333333,
              "#9c179e"
             ],
             [
              0.4444444444444444,
              "#bd3786"
             ],
             [
              0.5555555555555556,
              "#d8576b"
             ],
             [
              0.6666666666666666,
              "#ed7953"
             ],
             [
              0.7777777777777778,
              "#fb9f3a"
             ],
             [
              0.8888888888888888,
              "#fdca26"
             ],
             [
              1,
              "#f0f921"
             ]
            ],
            "type": "histogram2d"
           }
          ],
          "histogram2dcontour": [
           {
            "colorbar": {
             "outlinewidth": 0,
             "ticks": ""
            },
            "colorscale": [
             [
              0,
              "#0d0887"
             ],
             [
              0.1111111111111111,
              "#46039f"
             ],
             [
              0.2222222222222222,
              "#7201a8"
             ],
             [
              0.3333333333333333,
              "#9c179e"
             ],
             [
              0.4444444444444444,
              "#bd3786"
             ],
             [
              0.5555555555555556,
              "#d8576b"
             ],
             [
              0.6666666666666666,
              "#ed7953"
             ],
             [
              0.7777777777777778,
              "#fb9f3a"
             ],
             [
              0.8888888888888888,
              "#fdca26"
             ],
             [
              1,
              "#f0f921"
             ]
            ],
            "type": "histogram2dcontour"
           }
          ],
          "mesh3d": [
           {
            "colorbar": {
             "outlinewidth": 0,
             "ticks": ""
            },
            "type": "mesh3d"
           }
          ],
          "parcoords": [
           {
            "line": {
             "colorbar": {
              "outlinewidth": 0,
              "ticks": ""
             }
            },
            "type": "parcoords"
           }
          ],
          "pie": [
           {
            "automargin": true,
            "type": "pie"
           }
          ],
          "scatter": [
           {
            "marker": {
             "colorbar": {
              "outlinewidth": 0,
              "ticks": ""
             }
            },
            "type": "scatter"
           }
          ],
          "scatter3d": [
           {
            "line": {
             "colorbar": {
              "outlinewidth": 0,
              "ticks": ""
             }
            },
            "marker": {
             "colorbar": {
              "outlinewidth": 0,
              "ticks": ""
             }
            },
            "type": "scatter3d"
           }
          ],
          "scattercarpet": [
           {
            "marker": {
             "colorbar": {
              "outlinewidth": 0,
              "ticks": ""
             }
            },
            "type": "scattercarpet"
           }
          ],
          "scattergeo": [
           {
            "marker": {
             "colorbar": {
              "outlinewidth": 0,
              "ticks": ""
             }
            },
            "type": "scattergeo"
           }
          ],
          "scattergl": [
           {
            "marker": {
             "colorbar": {
              "outlinewidth": 0,
              "ticks": ""
             }
            },
            "type": "scattergl"
           }
          ],
          "scattermapbox": [
           {
            "marker": {
             "colorbar": {
              "outlinewidth": 0,
              "ticks": ""
             }
            },
            "type": "scattermapbox"
           }
          ],
          "scatterpolar": [
           {
            "marker": {
             "colorbar": {
              "outlinewidth": 0,
              "ticks": ""
             }
            },
            "type": "scatterpolar"
           }
          ],
          "scatterpolargl": [
           {
            "marker": {
             "colorbar": {
              "outlinewidth": 0,
              "ticks": ""
             }
            },
            "type": "scatterpolargl"
           }
          ],
          "scatterternary": [
           {
            "marker": {
             "colorbar": {
              "outlinewidth": 0,
              "ticks": ""
             }
            },
            "type": "scatterternary"
           }
          ],
          "surface": [
           {
            "colorbar": {
             "outlinewidth": 0,
             "ticks": ""
            },
            "colorscale": [
             [
              0,
              "#0d0887"
             ],
             [
              0.1111111111111111,
              "#46039f"
             ],
             [
              0.2222222222222222,
              "#7201a8"
             ],
             [
              0.3333333333333333,
              "#9c179e"
             ],
             [
              0.4444444444444444,
              "#bd3786"
             ],
             [
              0.5555555555555556,
              "#d8576b"
             ],
             [
              0.6666666666666666,
              "#ed7953"
             ],
             [
              0.7777777777777778,
              "#fb9f3a"
             ],
             [
              0.8888888888888888,
              "#fdca26"
             ],
             [
              1,
              "#f0f921"
             ]
            ],
            "type": "surface"
           }
          ],
          "table": [
           {
            "cells": {
             "fill": {
              "color": "#EBF0F8"
             },
             "line": {
              "color": "white"
             }
            },
            "header": {
             "fill": {
              "color": "#C8D4E3"
             },
             "line": {
              "color": "white"
             }
            },
            "type": "table"
           }
          ]
         },
         "layout": {
          "annotationdefaults": {
           "arrowcolor": "#2a3f5f",
           "arrowhead": 0,
           "arrowwidth": 1
          },
          "autotypenumbers": "strict",
          "coloraxis": {
           "colorbar": {
            "outlinewidth": 0,
            "ticks": ""
           }
          },
          "colorscale": {
           "diverging": [
            [
             0,
             "#8e0152"
            ],
            [
             0.1,
             "#c51b7d"
            ],
            [
             0.2,
             "#de77ae"
            ],
            [
             0.3,
             "#f1b6da"
            ],
            [
             0.4,
             "#fde0ef"
            ],
            [
             0.5,
             "#f7f7f7"
            ],
            [
             0.6,
             "#e6f5d0"
            ],
            [
             0.7,
             "#b8e186"
            ],
            [
             0.8,
             "#7fbc41"
            ],
            [
             0.9,
             "#4d9221"
            ],
            [
             1,
             "#276419"
            ]
           ],
           "sequential": [
            [
             0,
             "#0d0887"
            ],
            [
             0.1111111111111111,
             "#46039f"
            ],
            [
             0.2222222222222222,
             "#7201a8"
            ],
            [
             0.3333333333333333,
             "#9c179e"
            ],
            [
             0.4444444444444444,
             "#bd3786"
            ],
            [
             0.5555555555555556,
             "#d8576b"
            ],
            [
             0.6666666666666666,
             "#ed7953"
            ],
            [
             0.7777777777777778,
             "#fb9f3a"
            ],
            [
             0.8888888888888888,
             "#fdca26"
            ],
            [
             1,
             "#f0f921"
            ]
           ],
           "sequentialminus": [
            [
             0,
             "#0d0887"
            ],
            [
             0.1111111111111111,
             "#46039f"
            ],
            [
             0.2222222222222222,
             "#7201a8"
            ],
            [
             0.3333333333333333,
             "#9c179e"
            ],
            [
             0.4444444444444444,
             "#bd3786"
            ],
            [
             0.5555555555555556,
             "#d8576b"
            ],
            [
             0.6666666666666666,
             "#ed7953"
            ],
            [
             0.7777777777777778,
             "#fb9f3a"
            ],
            [
             0.8888888888888888,
             "#fdca26"
            ],
            [
             1,
             "#f0f921"
            ]
           ]
          },
          "colorway": [
           "#636efa",
           "#EF553B",
           "#00cc96",
           "#ab63fa",
           "#FFA15A",
           "#19d3f3",
           "#FF6692",
           "#B6E880",
           "#FF97FF",
           "#FECB52"
          ],
          "font": {
           "color": "#2a3f5f"
          },
          "geo": {
           "bgcolor": "white",
           "lakecolor": "white",
           "landcolor": "#E5ECF6",
           "showlakes": true,
           "showland": true,
           "subunitcolor": "white"
          },
          "hoverlabel": {
           "align": "left"
          },
          "hovermode": "closest",
          "mapbox": {
           "style": "light"
          },
          "paper_bgcolor": "white",
          "plot_bgcolor": "#E5ECF6",
          "polar": {
           "angularaxis": {
            "gridcolor": "white",
            "linecolor": "white",
            "ticks": ""
           },
           "bgcolor": "#E5ECF6",
           "radialaxis": {
            "gridcolor": "white",
            "linecolor": "white",
            "ticks": ""
           }
          },
          "scene": {
           "xaxis": {
            "backgroundcolor": "#E5ECF6",
            "gridcolor": "white",
            "gridwidth": 2,
            "linecolor": "white",
            "showbackground": true,
            "ticks": "",
            "zerolinecolor": "white"
           },
           "yaxis": {
            "backgroundcolor": "#E5ECF6",
            "gridcolor": "white",
            "gridwidth": 2,
            "linecolor": "white",
            "showbackground": true,
            "ticks": "",
            "zerolinecolor": "white"
           },
           "zaxis": {
            "backgroundcolor": "#E5ECF6",
            "gridcolor": "white",
            "gridwidth": 2,
            "linecolor": "white",
            "showbackground": true,
            "ticks": "",
            "zerolinecolor": "white"
           }
          },
          "shapedefaults": {
           "line": {
            "color": "#2a3f5f"
           }
          },
          "ternary": {
           "aaxis": {
            "gridcolor": "white",
            "linecolor": "white",
            "ticks": ""
           },
           "baxis": {
            "gridcolor": "white",
            "linecolor": "white",
            "ticks": ""
           },
           "bgcolor": "#E5ECF6",
           "caxis": {
            "gridcolor": "white",
            "linecolor": "white",
            "ticks": ""
           }
          },
          "title": {
           "x": 0.05
          },
          "xaxis": {
           "automargin": true,
           "gridcolor": "white",
           "linecolor": "white",
           "ticks": "",
           "title": {
            "standoff": 15
           },
           "zerolinecolor": "white",
           "zerolinewidth": 2
          },
          "yaxis": {
           "automargin": true,
           "gridcolor": "white",
           "linecolor": "white",
           "ticks": "",
           "title": {
            "standoff": 15
           },
           "zerolinecolor": "white",
           "zerolinewidth": 2
          }
         }
        },
        "title": {
         "font": {
          "color": "#4D5663"
         },
         "text": "Cum P&L vs. Gamma_BS"
        },
        "xaxis": {
         "gridcolor": "#E1E5ED",
         "showgrid": true,
         "tickfont": {
          "color": "#4D5663"
         },
         "title": {
          "font": {
           "color": "#4D5663"
          },
          "text": ""
         },
         "zerolinecolor": "#E1E5ED"
        },
        "yaxis": {
         "gridcolor": "#E1E5ED",
         "showgrid": true,
         "tickfont": {
          "color": "#4D5663"
         },
         "title": {
          "font": {
           "color": "#4D5663"
          },
          "text": ""
         },
         "zerolinecolor": "#E1E5ED"
        },
        "yaxis2": {
         "anchor": "x",
         "gridcolor": "#E1E5ED",
         "overlaying": "y",
         "showgrid": true,
         "side": "right",
         "tickfont": {
          "color": "#4D5663"
         },
         "title": {
          "text": ""
         },
         "zerolinecolor": "#E1E5ED"
        }
       }
      },
      "text/html": [
       "<div>                            <div id=\"63e63460-2e12-400c-a11b-c249bd127a13\" class=\"plotly-graph-div\" style=\"height:525px; width:100%;\"></div>            <script type=\"text/javascript\">                require([\"plotly\"], function(Plotly) {                    window.PLOTLYENV=window.PLOTLYENV || {};\n",
       "                    window.PLOTLYENV.BASE_URL='https://plot.ly';                                    if (document.getElementById(\"63e63460-2e12-400c-a11b-c249bd127a13\")) {                    Plotly.newPlot(                        \"63e63460-2e12-400c-a11b-c249bd127a13\",                        [{\"line\": {\"color\": \"rgba(255, 153, 51, 1.0)\", \"dash\": \"solid\", \"shape\": \"linear\", \"width\": 1.3}, \"mode\": \"lines\", \"name\": \"Cum P&L\", \"text\": \"\", \"type\": \"scatter\", \"x\": [0.0, 0.01, 0.02, 0.03, 0.04, 0.05, 0.06, 0.07, 0.08, 0.09, 0.1, 0.11, 0.12, 0.13, 0.14, 0.15, 0.16, 0.17, 0.18, 0.19, 0.2, 0.21, 0.22, 0.23, 0.24, 0.25, 0.26, 0.27, 0.28, 0.29, 0.3, 0.31, 0.32, 0.33, 0.34, 0.35000000000000003, 0.36, 0.37, 0.38, 0.39, 0.4, 0.41000000000000003, 0.42, 0.43, 0.44, 0.45, 0.46, 0.47000000000000003, 0.48, 0.49, 0.5, 0.51, 0.52, 0.53, 0.54, 0.55, 0.56, 0.5700000000000001, 0.58, 0.59, 0.6, 0.61, 0.62, 0.63, 0.64, 0.65, 0.66, 0.67, 0.68, 0.6900000000000001, 0.7000000000000001, 0.71, 0.72, 0.73, 0.74, 0.75, 0.76, 0.77, 0.78, 0.79, 0.8, 0.81, 0.8200000000000001, 0.8300000000000001, 0.84, 0.85, 0.86, 0.87, 0.88, 0.89, 0.9, 0.91, 0.92, 0.93, 0.9400000000000001, 0.9500000000000001, 0.96, 0.97, 0.98, 0.99, 1.0], \"y\": [63.68306511756191, 69.83179517513442, 67.64761857436118, 65.71702212976712, 61.677865130992465, 65.06207055907629, 56.30014244688067, 63.273880221087744, 60.30375576755148, 61.58012826953719, 60.590636887555206, 66.53406195927978, 58.41690256604135, 57.08834614336629, 55.493606840934824, 60.21140526353431, 55.67261199041024, 54.92025151804433, 51.2462876794724, 51.36081162261857, 53.77658079681727, 49.12420198949827, 53.97899103546011, 57.89652252852968, 60.099324629852056, 64.11001245992213, 61.11337648447214, 60.56256514990664, 56.35783654128505, 55.106485395395374, 57.50971479607138, 54.30654432681447, 52.42598310387886, 49.21497019875668, 45.32760469707486, 42.26479325981803, 42.06600705376832, 37.23590586170272, 38.030940790324344, 45.32952609339223, 48.746563021549385, 47.710855693406856, 43.396380780893416, 39.83340166694416, 47.83469640618603, 47.96370153289171, 44.68129167832041, 45.4767559091396, 56.5699264769937, 57.17085607413925, 60.538509545261306, 62.19758021288908, 60.23267600172691, 53.815486927721075, 51.75495847384784, 50.45734769163234, 53.73676602024035, 58.65789415022351, 64.27032862957941, 66.03043797966235, 71.43956080676435, 67.03170218066765, 74.78675696019222, 77.95817901063478, 76.44287887362876, 79.52064986903946, 79.33110616640985, 85.94616279934866, 93.51490342203697, 101.3135248503886, 97.54642514193894, 92.16263371385723, 90.13283315449483, 91.36275147545182, 95.8612577638697, 97.60230153365046, 88.49382453767106, 87.13163511710417, 92.45508290729691, 94.2110738237824, 98.35890815591293, 98.0001690305048, 97.72609592726918, 99.21738926016346, 101.52660830529474, 102.87937639505164, 103.9125765505457, 102.38530959917351, 104.43017030923352, 105.50003760135876, 108.17855613313542, 109.3369183320913, 109.56409030888393, 109.64693249356853, 109.69025121050454, 109.86372389128942, 109.94193514014167, 110.00096716308181, 110.05684775089173, 110.11189596165899, 110.16696567626857]}, {\"line\": {\"color\": \"rgba(55, 128, 191, 1.0)\", \"dash\": \"solid\", \"shape\": \"linear\", \"width\": 1.3}, \"mode\": \"lines\", \"name\": \"Gamma_BS\", \"text\": \"\", \"type\": \"scatter\", \"x\": [0.0, 0.01, 0.02, 0.03, 0.04, 0.05, 0.06, 0.07, 0.08, 0.09, 0.1, 0.11, 0.12, 0.13, 0.14, 0.15, 0.16, 0.17, 0.18, 0.19, 0.2, 0.21, 0.22, 0.23, 0.24, 0.25, 0.26, 0.27, 0.28, 0.29, 0.3, 0.31, 0.32, 0.33, 0.34, 0.35000000000000003, 0.36, 0.37, 0.38, 0.39, 0.4, 0.41000000000000003, 0.42, 0.43, 0.44, 0.45, 0.46, 0.47000000000000003, 0.48, 0.49, 0.5, 0.51, 0.52, 0.53, 0.54, 0.55, 0.56, 0.5700000000000001, 0.58, 0.59, 0.6, 0.61, 0.62, 0.63, 0.64, 0.65, 0.66, 0.67, 0.68, 0.6900000000000001, 0.7000000000000001, 0.71, 0.72, 0.73, 0.74, 0.75, 0.76, 0.77, 0.78, 0.79, 0.8, 0.81, 0.8200000000000001, 0.8300000000000001, 0.84, 0.85, 0.86, 0.87, 0.88, 0.89, 0.9, 0.91, 0.92, 0.93, 0.9400000000000001, 0.9500000000000001, 0.96, 0.97, 0.98, 0.99, 1.0], \"xaxis\": \"x\", \"y\": [0.018762017345846895, 0.0170088730002123, 0.017819129255404766, 0.018510513622466588, 0.019733363134363094, 0.018926062388426135, 0.021177624074927615, 0.019724485865930584, 0.020583170248741157, 0.02038696949307831, 0.020740095692361918, 0.019266349668137568, 0.021510720239064158, 0.021893884922556266, 0.022301015292112338, 0.021494055069038946, 0.022534897146273804, 0.022784721081062075, 0.023397165917589814, 0.023515097282733946, 0.023355485464927286, 0.023974932280006887, 0.02361674063975371, 0.02310414149204814, 0.02278603666919412, 0.02192977124509897, 0.02286117712588284, 0.023144810302318793, 0.024161952297003072, 0.02452606386162353, 0.02428147248094076, 0.02497835696335481, 0.025382047915049652, 0.025813057423596707, 0.026040490641225402, 0.026034785835502415, 0.026188786180710043, 0.025594645823112307, 0.02593149004527168, 0.026948067492885208, 0.027157811571687628, 0.027383501490881867, 0.02742667829871651, 0.02717024104132161, 0.028033197492445816, 0.02826129609824324, 0.028387080010806736, 0.0286721809319302, 0.028310715784470593, 0.028475975966229174, 0.0280835738188134, 0.027962824329316585, 0.02872228010146272, 0.03008698764289112, 0.030563489721644767, 0.030939069189521183, 0.03104911200757939, 0.03067245549301646, 0.029658393839941535, 0.029468099723963796, 0.027808240937100402, 0.02990887642040995, 0.027078010413142086, 0.025817311546616446, 0.027027606346927913, 0.025716163570538395, 0.02623940184501862, 0.02232936653107533, 0.016669057290292184, 0.009400669270297911, 0.013694373507603934, 0.019255927051645513, 0.021477803190405143, 0.020837674979866536, 0.016919836094874408, 0.015447083767304002, 0.02519550631238389, 0.02701762744843712, 0.022642056093047716, 0.021368858148667392, 0.01704630145274245, 0.01806064041021734, 0.019027530538138368, 0.017621733912218676, 0.014785380873461016, 0.013143813842447328, 0.011875884242255323, 0.015343850287994214, 0.01211038074183385, 0.010464439198130372, 0.0044010873613035476, 0.0012472361167402402, 0.0006879207914913762, 0.0006237681473877546, 0.0007356962494085628, 0.00017367662089010948, 3.780395100851262e-05, 8.496385117079021e-06, 8.797444115095255e-08, 9.143913557505191e-12, 0.0], \"yaxis\": \"y2\"}],                        {\"legend\": {\"bgcolor\": \"#F5F6F9\", \"font\": {\"color\": \"#4D5663\"}}, \"paper_bgcolor\": \"#F5F6F9\", \"plot_bgcolor\": \"#F5F6F9\", \"template\": {\"data\": {\"bar\": [{\"error_x\": {\"color\": \"#2a3f5f\"}, \"error_y\": {\"color\": \"#2a3f5f\"}, \"marker\": {\"line\": {\"color\": \"#E5ECF6\", \"width\": 0.5}}, \"type\": \"bar\"}], \"barpolar\": [{\"marker\": {\"line\": {\"color\": \"#E5ECF6\", \"width\": 0.5}}, \"type\": \"barpolar\"}], \"carpet\": [{\"aaxis\": {\"endlinecolor\": \"#2a3f5f\", \"gridcolor\": \"white\", \"linecolor\": \"white\", \"minorgridcolor\": \"white\", \"startlinecolor\": \"#2a3f5f\"}, \"baxis\": {\"endlinecolor\": \"#2a3f5f\", \"gridcolor\": \"white\", \"linecolor\": \"white\", \"minorgridcolor\": \"white\", \"startlinecolor\": \"#2a3f5f\"}, \"type\": \"carpet\"}], \"choropleth\": [{\"colorbar\": {\"outlinewidth\": 0, \"ticks\": \"\"}, \"type\": \"choropleth\"}], \"contour\": [{\"colorbar\": {\"outlinewidth\": 0, \"ticks\": \"\"}, \"colorscale\": [[0.0, \"#0d0887\"], [0.1111111111111111, \"#46039f\"], [0.2222222222222222, \"#7201a8\"], [0.3333333333333333, \"#9c179e\"], [0.4444444444444444, \"#bd3786\"], [0.5555555555555556, \"#d8576b\"], [0.6666666666666666, \"#ed7953\"], [0.7777777777777778, \"#fb9f3a\"], [0.8888888888888888, \"#fdca26\"], [1.0, \"#f0f921\"]], \"type\": \"contour\"}], \"contourcarpet\": [{\"colorbar\": {\"outlinewidth\": 0, \"ticks\": \"\"}, \"type\": \"contourcarpet\"}], \"heatmap\": [{\"colorbar\": {\"outlinewidth\": 0, \"ticks\": \"\"}, \"colorscale\": [[0.0, \"#0d0887\"], [0.1111111111111111, \"#46039f\"], [0.2222222222222222, \"#7201a8\"], [0.3333333333333333, \"#9c179e\"], [0.4444444444444444, \"#bd3786\"], [0.5555555555555556, \"#d8576b\"], [0.6666666666666666, \"#ed7953\"], [0.7777777777777778, \"#fb9f3a\"], [0.8888888888888888, \"#fdca26\"], [1.0, \"#f0f921\"]], \"type\": \"heatmap\"}], \"heatmapgl\": [{\"colorbar\": {\"outlinewidth\": 0, \"ticks\": \"\"}, \"colorscale\": [[0.0, \"#0d0887\"], [0.1111111111111111, \"#46039f\"], [0.2222222222222222, \"#7201a8\"], [0.3333333333333333, \"#9c179e\"], [0.4444444444444444, \"#bd3786\"], [0.5555555555555556, \"#d8576b\"], [0.6666666666666666, \"#ed7953\"], [0.7777777777777778, \"#fb9f3a\"], [0.8888888888888888, \"#fdca26\"], [1.0, \"#f0f921\"]], \"type\": \"heatmapgl\"}], \"histogram\": [{\"marker\": {\"colorbar\": {\"outlinewidth\": 0, \"ticks\": \"\"}}, \"type\": \"histogram\"}], \"histogram2d\": [{\"colorbar\": {\"outlinewidth\": 0, \"ticks\": \"\"}, \"colorscale\": [[0.0, \"#0d0887\"], [0.1111111111111111, \"#46039f\"], [0.2222222222222222, \"#7201a8\"], [0.3333333333333333, \"#9c179e\"], [0.4444444444444444, \"#bd3786\"], [0.5555555555555556, \"#d8576b\"], [0.6666666666666666, \"#ed7953\"], [0.7777777777777778, \"#fb9f3a\"], [0.8888888888888888, \"#fdca26\"], [1.0, \"#f0f921\"]], \"type\": \"histogram2d\"}], \"histogram2dcontour\": [{\"colorbar\": {\"outlinewidth\": 0, \"ticks\": \"\"}, \"colorscale\": [[0.0, \"#0d0887\"], [0.1111111111111111, \"#46039f\"], [0.2222222222222222, \"#7201a8\"], [0.3333333333333333, \"#9c179e\"], [0.4444444444444444, \"#bd3786\"], [0.5555555555555556, \"#d8576b\"], [0.6666666666666666, \"#ed7953\"], [0.7777777777777778, \"#fb9f3a\"], [0.8888888888888888, \"#fdca26\"], [1.0, \"#f0f921\"]], \"type\": \"histogram2dcontour\"}], \"mesh3d\": [{\"colorbar\": {\"outlinewidth\": 0, \"ticks\": \"\"}, \"type\": \"mesh3d\"}], \"parcoords\": [{\"line\": {\"colorbar\": {\"outlinewidth\": 0, \"ticks\": \"\"}}, \"type\": \"parcoords\"}], \"pie\": [{\"automargin\": true, \"type\": \"pie\"}], \"scatter\": [{\"marker\": {\"colorbar\": {\"outlinewidth\": 0, \"ticks\": \"\"}}, \"type\": \"scatter\"}], \"scatter3d\": [{\"line\": {\"colorbar\": {\"outlinewidth\": 0, \"ticks\": \"\"}}, \"marker\": {\"colorbar\": {\"outlinewidth\": 0, \"ticks\": \"\"}}, \"type\": \"scatter3d\"}], \"scattercarpet\": [{\"marker\": {\"colorbar\": {\"outlinewidth\": 0, \"ticks\": \"\"}}, \"type\": \"scattercarpet\"}], \"scattergeo\": [{\"marker\": {\"colorbar\": {\"outlinewidth\": 0, \"ticks\": \"\"}}, \"type\": \"scattergeo\"}], \"scattergl\": [{\"marker\": {\"colorbar\": {\"outlinewidth\": 0, \"ticks\": \"\"}}, \"type\": \"scattergl\"}], \"scattermapbox\": [{\"marker\": {\"colorbar\": {\"outlinewidth\": 0, \"ticks\": \"\"}}, \"type\": \"scattermapbox\"}], \"scatterpolar\": [{\"marker\": {\"colorbar\": {\"outlinewidth\": 0, \"ticks\": \"\"}}, \"type\": \"scatterpolar\"}], \"scatterpolargl\": [{\"marker\": {\"colorbar\": {\"outlinewidth\": 0, \"ticks\": \"\"}}, \"type\": \"scatterpolargl\"}], \"scatterternary\": [{\"marker\": {\"colorbar\": {\"outlinewidth\": 0, \"ticks\": \"\"}}, \"type\": \"scatterternary\"}], \"surface\": [{\"colorbar\": {\"outlinewidth\": 0, \"ticks\": \"\"}, \"colorscale\": [[0.0, \"#0d0887\"], [0.1111111111111111, \"#46039f\"], [0.2222222222222222, \"#7201a8\"], [0.3333333333333333, \"#9c179e\"], [0.4444444444444444, \"#bd3786\"], [0.5555555555555556, \"#d8576b\"], [0.6666666666666666, \"#ed7953\"], [0.7777777777777778, \"#fb9f3a\"], [0.8888888888888888, \"#fdca26\"], [1.0, \"#f0f921\"]], \"type\": \"surface\"}], \"table\": [{\"cells\": {\"fill\": {\"color\": \"#EBF0F8\"}, \"line\": {\"color\": \"white\"}}, \"header\": {\"fill\": {\"color\": \"#C8D4E3\"}, \"line\": {\"color\": \"white\"}}, \"type\": \"table\"}]}, \"layout\": {\"annotationdefaults\": {\"arrowcolor\": \"#2a3f5f\", \"arrowhead\": 0, \"arrowwidth\": 1}, \"autotypenumbers\": \"strict\", \"coloraxis\": {\"colorbar\": {\"outlinewidth\": 0, \"ticks\": \"\"}}, \"colorscale\": {\"diverging\": [[0, \"#8e0152\"], [0.1, \"#c51b7d\"], [0.2, \"#de77ae\"], [0.3, \"#f1b6da\"], [0.4, \"#fde0ef\"], [0.5, \"#f7f7f7\"], [0.6, \"#e6f5d0\"], [0.7, \"#b8e186\"], [0.8, \"#7fbc41\"], [0.9, \"#4d9221\"], [1, \"#276419\"]], \"sequential\": [[0.0, \"#0d0887\"], [0.1111111111111111, \"#46039f\"], [0.2222222222222222, \"#7201a8\"], [0.3333333333333333, \"#9c179e\"], [0.4444444444444444, \"#bd3786\"], [0.5555555555555556, \"#d8576b\"], [0.6666666666666666, \"#ed7953\"], [0.7777777777777778, \"#fb9f3a\"], [0.8888888888888888, \"#fdca26\"], [1.0, \"#f0f921\"]], \"sequentialminus\": [[0.0, \"#0d0887\"], [0.1111111111111111, \"#46039f\"], [0.2222222222222222, \"#7201a8\"], [0.3333333333333333, \"#9c179e\"], [0.4444444444444444, \"#bd3786\"], [0.5555555555555556, \"#d8576b\"], [0.6666666666666666, \"#ed7953\"], [0.7777777777777778, \"#fb9f3a\"], [0.8888888888888888, \"#fdca26\"], [1.0, \"#f0f921\"]]}, \"colorway\": [\"#636efa\", \"#EF553B\", \"#00cc96\", \"#ab63fa\", \"#FFA15A\", \"#19d3f3\", \"#FF6692\", \"#B6E880\", \"#FF97FF\", \"#FECB52\"], \"font\": {\"color\": \"#2a3f5f\"}, \"geo\": {\"bgcolor\": \"white\", \"lakecolor\": \"white\", \"landcolor\": \"#E5ECF6\", \"showlakes\": true, \"showland\": true, \"subunitcolor\": \"white\"}, \"hoverlabel\": {\"align\": \"left\"}, \"hovermode\": \"closest\", \"mapbox\": {\"style\": \"light\"}, \"paper_bgcolor\": \"white\", \"plot_bgcolor\": \"#E5ECF6\", \"polar\": {\"angularaxis\": {\"gridcolor\": \"white\", \"linecolor\": \"white\", \"ticks\": \"\"}, \"bgcolor\": \"#E5ECF6\", \"radialaxis\": {\"gridcolor\": \"white\", \"linecolor\": \"white\", \"ticks\": \"\"}}, \"scene\": {\"xaxis\": {\"backgroundcolor\": \"#E5ECF6\", \"gridcolor\": \"white\", \"gridwidth\": 2, \"linecolor\": \"white\", \"showbackground\": true, \"ticks\": \"\", \"zerolinecolor\": \"white\"}, \"yaxis\": {\"backgroundcolor\": \"#E5ECF6\", \"gridcolor\": \"white\", \"gridwidth\": 2, \"linecolor\": \"white\", \"showbackground\": true, \"ticks\": \"\", \"zerolinecolor\": \"white\"}, \"zaxis\": {\"backgroundcolor\": \"#E5ECF6\", \"gridcolor\": \"white\", \"gridwidth\": 2, \"linecolor\": \"white\", \"showbackground\": true, \"ticks\": \"\", \"zerolinecolor\": \"white\"}}, \"shapedefaults\": {\"line\": {\"color\": \"#2a3f5f\"}}, \"ternary\": {\"aaxis\": {\"gridcolor\": \"white\", \"linecolor\": \"white\", \"ticks\": \"\"}, \"baxis\": {\"gridcolor\": \"white\", \"linecolor\": \"white\", \"ticks\": \"\"}, \"bgcolor\": \"#E5ECF6\", \"caxis\": {\"gridcolor\": \"white\", \"linecolor\": \"white\", \"ticks\": \"\"}}, \"title\": {\"x\": 0.05}, \"xaxis\": {\"automargin\": true, \"gridcolor\": \"white\", \"linecolor\": \"white\", \"ticks\": \"\", \"title\": {\"standoff\": 15}, \"zerolinecolor\": \"white\", \"zerolinewidth\": 2}, \"yaxis\": {\"automargin\": true, \"gridcolor\": \"white\", \"linecolor\": \"white\", \"ticks\": \"\", \"title\": {\"standoff\": 15}, \"zerolinecolor\": \"white\", \"zerolinewidth\": 2}}}, \"title\": {\"font\": {\"color\": \"#4D5663\"}, \"text\": \"Cum P&L vs. Gamma_BS\"}, \"xaxis\": {\"gridcolor\": \"#E1E5ED\", \"showgrid\": true, \"tickfont\": {\"color\": \"#4D5663\"}, \"title\": {\"font\": {\"color\": \"#4D5663\"}, \"text\": \"\"}, \"zerolinecolor\": \"#E1E5ED\"}, \"yaxis\": {\"gridcolor\": \"#E1E5ED\", \"showgrid\": true, \"tickfont\": {\"color\": \"#4D5663\"}, \"title\": {\"font\": {\"color\": \"#4D5663\"}, \"text\": \"\"}, \"zerolinecolor\": \"#E1E5ED\"}, \"yaxis2\": {\"anchor\": \"x\", \"gridcolor\": \"#E1E5ED\", \"overlaying\": \"y\", \"showgrid\": true, \"side\": \"right\", \"tickfont\": {\"color\": \"#4D5663\"}, \"title\": {\"text\": \"\"}, \"zerolinecolor\": \"#E1E5ED\"}},                        {\"showLink\": true, \"linkText\": \"Export to plot.ly\", \"plotlyServerURL\": \"https://plot.ly\", \"responsive\": true}                    ).then(function(){\n",
       "                            \n",
       "var gd = document.getElementById('63e63460-2e12-400c-a11b-c249bd127a13');\n",
       "var x = new MutationObserver(function (mutations, observer) {{\n",
       "        var display = window.getComputedStyle(gd).display;\n",
       "        if (!display || display === 'none') {{\n",
       "            console.log([gd, 'removed!']);\n",
       "            Plotly.purge(gd);\n",
       "            observer.disconnect();\n",
       "        }}\n",
       "}});\n",
       "\n",
       "// Listen for the removal of the full notebook cells\n",
       "var notebookContainer = gd.closest('#notebook-container');\n",
       "if (notebookContainer) {{\n",
       "    x.observe(notebookContainer, {childList: true});\n",
       "}}\n",
       "\n",
       "// Listen for the clearing of the current output cell\n",
       "var outputEl = gd.closest('.output');\n",
       "if (outputEl) {{\n",
       "    x.observe(outputEl, {childList: true});\n",
       "}}\n",
       "\n",
       "                        })                };                });            </script>        </div>"
      ]
     },
     "metadata": {},
     "output_type": "display_data"
    }
   ],
   "source": [
    "# set up the dataframe\n",
    "df = pd.DataFrame({'Cum P&L': cum_pl,\n",
    "                   'Gamma_BS':Gamma_BS}, index=Week)\n",
    "\n",
    "# plot\n",
    "df.iplot(title='Cum P&L vs. Gamma_BS', secondary_y='Gamma_BS')"
   ]
  },
  {
   "cell_type": "code",
   "execution_count": null,
   "id": "controversial-literacy",
   "metadata": {},
   "outputs": [],
   "source": []
  }
 ],
 "metadata": {
  "hide_input": false,
  "kernelspec": {
   "display_name": "Python 3",
   "language": "python",
   "name": "python3"
  },
  "language_info": {
   "codemirror_mode": {
    "name": "ipython",
    "version": 3
   },
   "file_extension": ".py",
   "mimetype": "text/x-python",
   "name": "python",
   "nbconvert_exporter": "python",
   "pygments_lexer": "ipython3",
   "version": "3.8.5"
  },
  "toc": {
   "base_numbering": 1,
   "nav_menu": {},
   "number_sections": true,
   "sideBar": true,
   "skip_h1_title": false,
   "title_cell": "Table of Contents",
   "title_sidebar": "Contents",
   "toc_cell": false,
   "toc_position": {},
   "toc_section_display": true,
   "toc_window_display": false
  }
 },
 "nbformat": 4,
 "nbformat_minor": 5
}
